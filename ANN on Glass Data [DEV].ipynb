{
 "cells": [
  {
   "cell_type": "code",
   "execution_count": 22,
   "id": "cc487b12",
   "metadata": {},
   "outputs": [],
   "source": [
    "import numpy as np\n",
    "import matplotlib.pylab as plt\n",
    "from sklearn.preprocessing import OneHotEncoder\n",
    "import pandas as pd\n",
    "import numpy as np\n",
    "from sklearn.datasets import load_iris\n",
    "from sklearn.model_selection import train_test_split"
   ]
  },
  {
   "cell_type": "code",
   "execution_count": 35,
   "id": "8eaa2e55",
   "metadata": {},
   "outputs": [],
   "source": [
    "class ANN:\n",
    "    def __init__(self, layers_size):\n",
    "        self.layers_size = layers_size\n",
    "        self.parameters = {}\n",
    "        self.L = len(self.layers_size)\n",
    "        self.n = 0\n",
    "        self.costs = []\n",
    "\n",
    "    def sigmoid(self, Z):\n",
    "        return 1 / (1 + np.exp(-Z))\n",
    "\n",
    "    def softmax(self, Z):\n",
    "        expZ = np.exp(Z - np.max(Z))\n",
    "        return expZ / expZ.sum(axis=0, keepdims=True)\n",
    "\n",
    "    def initialize_parameters(self):\n",
    "        np.random.seed(1)\n",
    "\n",
    "        for l in range(1, len(self.layers_size)):\n",
    "            self.parameters[\"W\" + str(l)] = np.random.randn(self.layers_size[l], self.layers_size[l - 1]) / np.sqrt(\n",
    "                self.layers_size[l - 1])\n",
    "            self.parameters[\"b\" + str(l)] = np.zeros((self.layers_size[l], 1))\n",
    "\n",
    "    def forward(self, X):\n",
    "        store = {}\n",
    "\n",
    "        A = X.T\n",
    "        for l in range(self.L - 1):\n",
    "            Z = self.parameters[\"W\" + str(l + 1)].dot(A) + self.parameters[\"b\" + str(l + 1)]\n",
    "            A = self.sigmoid(Z)\n",
    "            store[\"A\" + str(l + 1)] = A\n",
    "            store[\"W\" + str(l + 1)] = self.parameters[\"W\" + str(l + 1)]\n",
    "            store[\"Z\" + str(l + 1)] = Z\n",
    "\n",
    "        Z = self.parameters[\"W\" + str(self.L)].dot(A) + self.parameters[\"b\" + str(self.L)]\n",
    "        A = self.softmax(Z)\n",
    "        store[\"A\" + str(self.L)] = A\n",
    "        store[\"W\" + str(self.L)] = self.parameters[\"W\" + str(self.L)]\n",
    "        store[\"Z\" + str(self.L)] = Z\n",
    "\n",
    "        return A, store\n",
    "\n",
    "    def sigmoid_derivative(self, Z):\n",
    "        s = 1 / (1 + np.exp(-Z))\n",
    "        return s * (1 - s)\n",
    "\n",
    "    def backward(self, X, Y, store):\n",
    "\n",
    "        derivatives = {}\n",
    "\n",
    "        store[\"A0\"] = X.T\n",
    "\n",
    "        A = store[\"A\" + str(self.L)]\n",
    "        dZ = A - Y.T\n",
    "\n",
    "        dW = dZ.dot(store[\"A\" + str(self.L - 1)].T) / self.n\n",
    "        db = np.sum(dZ, axis=1, keepdims=True) / self.n\n",
    "        dAPrev = store[\"W\" + str(self.L)].T.dot(dZ)\n",
    "\n",
    "        derivatives[\"dW\" + str(self.L)] = dW\n",
    "        derivatives[\"db\" + str(self.L)] = db\n",
    "\n",
    "        for l in range(self.L - 1, 0, -1):\n",
    "            dZ = dAPrev * self.sigmoid_derivative(store[\"Z\" + str(l)])\n",
    "            dW = 1. / self.n * dZ.dot(store[\"A\" + str(l - 1)].T)\n",
    "            db = 1. / self.n * np.sum(dZ, axis=1, keepdims=True)\n",
    "            if l > 1:\n",
    "                dAPrev = store[\"W\" + str(l)].T.dot(dZ)\n",
    "\n",
    "            derivatives[\"dW\" + str(l)] = dW\n",
    "            derivatives[\"db\" + str(l)] = db\n",
    "\n",
    "        return derivatives\n",
    "\n",
    "    def fit(self, X, Y, learning_rate=0.01, n_iterations=2500):\n",
    "        np.random.seed(1)\n",
    "\n",
    "        self.n = X.shape[0]\n",
    "\n",
    "        self.layers_size.insert(0, X.shape[1])\n",
    "\n",
    "        self.initialize_parameters()\n",
    "        for loop in range(n_iterations):\n",
    "            A, store = self.forward(X)\n",
    "            cost = -np.mean(Y * np.log(A.T))\n",
    "            derivatives = self.backward(X, Y, store)\n",
    "\n",
    "            for l in range(1, self.L + 1):\n",
    "                self.parameters[\"W\" + str(l)] = self.parameters[\"W\" + str(l)] - learning_rate * derivatives[\n",
    "                    \"dW\" + str(l)]\n",
    "                self.parameters[\"b\" + str(l)] = self.parameters[\"b\" + str(l)] - learning_rate * derivatives[\n",
    "                    \"db\" + str(l)]\n",
    "\n",
    "            if loop % 100 == 0:\n",
    "                print(\"Cost: \", cost, \"Train Accuracy:\", self.predict(X, Y))\n",
    "\n",
    "            if loop % 10 == 0:\n",
    "                self.costs.append(cost)\n",
    "\n",
    "    def predict(self, X, Y):\n",
    "        A, cache = self.forward(X)\n",
    "        y_hat = np.argmax(A, axis=0)\n",
    "        Y = np.argmax(Y, axis=1)\n",
    "        accuracy = (y_hat == Y).mean()\n",
    "        return accuracy * 100\n",
    "\n",
    "    def plot_cost(self):\n",
    "        plt.figure()\n",
    "        plt.plot(np.arange(len(self.costs)), self.costs)\n",
    "        plt.xlabel(\"epochs\")\n",
    "        plt.ylabel(\"cost\")\n",
    "        plt.show()"
   ]
  },
  {
   "cell_type": "code",
   "execution_count": 36,
   "id": "9aa6c956",
   "metadata": {},
   "outputs": [],
   "source": [
    "iris = load_iris()\n",
    "X, y = iris.data, iris.target\n",
    "\n",
    "train_x, test_x, train_y, test_y = train_test_split(X, y,\n",
    "                                                        train_size=0.5,\n",
    "                                                        test_size=0.5,\n",
    "                                                        random_state=123)"
   ]
  },
  {
   "cell_type": "code",
   "execution_count": 37,
   "id": "3fc677e4",
   "metadata": {},
   "outputs": [],
   "source": [
    "enc = OneHotEncoder(sparse=False, categories='auto')\n",
    "train_y = enc.fit_transform(train_y.reshape(len(train_y), -1))\n",
    "test_y = enc.transform(test_y.reshape(len(test_y), -1))"
   ]
  },
  {
   "cell_type": "code",
   "execution_count": 38,
   "id": "26961a39",
   "metadata": {},
   "outputs": [
    {
     "name": "stdout",
     "output_type": "stream",
     "text": [
      "train_x's shape: (75, 4)\n",
      "test_x's shape: (75, 4)\n",
      "Cost:  0.37797638900969094 Train Accuracy: 48.0\n",
      "Cost:  0.1524563750575942 Train Accuracy: 92.0\n",
      "Cost:  0.1091406908036644 Train Accuracy: 94.66666666666667\n",
      "Cost:  0.08261344818675323 Train Accuracy: 97.33333333333334\n",
      "Cost:  0.06559543193936519 Train Accuracy: 97.33333333333334\n",
      "Cost:  0.054518791462554485 Train Accuracy: 97.33333333333334\n",
      "Cost:  0.04701406680314554 Train Accuracy: 97.33333333333334\n",
      "Cost:  0.04169950868733145 Train Accuracy: 98.66666666666667\n",
      "Cost:  0.03778683982295048 Train Accuracy: 98.66666666666667\n",
      "Cost:  0.0348097291342907 Train Accuracy: 98.66666666666667\n",
      "Train Accuracy: 98.66666666666667\n",
      "Test Accuracy: 97.33333333333334\n"
     ]
    },
    {
     "data": {
      "image/png": "[encoded data removed]",
      "text/plain": [
       "<Figure size 432x288 with 1 Axes>"
      ]
     },
     "metadata": {
      "needs_background": "light"
     },
     "output_type": "display_data"
    }
   ],
   "source": [
    "if __name__ == '__main__':\n",
    "\n",
    "    print(\"train_x's shape: \" + str(train_x.shape))\n",
    "    print(\"test_x's shape: \" + str(test_x.shape))\n",
    "\n",
    "    layers_dims = [50, 3]\n",
    "\n",
    "    ann = ANN(layers_dims)\n",
    "    ann.fit(train_x, train_y, learning_rate=0.1, n_iterations=1000)\n",
    "    print(\"Train Accuracy:\", ann.predict(train_x, train_y))\n",
    "    print(\"Test Accuracy:\", ann.predict(test_x, test_y))\n",
    "    ann.plot_cost()"
   ]
  },
  {
   "cell_type": "markdown",
   "id": "bfa5d75f",
   "metadata": {},
   "source": [
    "# GLASS DATA - Library Implementation"
   ]
  },
  {
   "cell_type": "code",
   "execution_count": null,
   "id": "7f3e7ab1",
   "metadata": {},
   "outputs": [],
   "source": [
    "### Import libraries\n",
    "import numpy as np\n",
    "from sklearn.datasets import load_iris\n",
    "from sklearn.model_selection import train_test_split\n",
    "from sklearn.preprocessing import OneHotEncoder\n",
    "from keras.models import Sequential\n",
    "from keras.layers import Dense\n",
    "from tensorflow.keras.optimizers import SGD\n",
    "from tensorflow.keras import optimizers\n",
    "import keras\n",
    "import pandas as pd\n",
    "import matplotlib.pyplot as plt\n",
    "import matplotlib\n",
    "import tensorflow as tf"
   ]
  },
  {
   "cell_type": "code",
   "execution_count": null,
   "id": "3562d9c7",
   "metadata": {},
   "outputs": [],
   "source": [
    "X_train = np.loadtxt('df_train.csv',delimiter=',', skiprows=1, usecols = range(0,9))\n",
    "y_train_pre = np.loadtxt('df_train.csv',delimiter=',', skiprows=1, usecols = 9)\n",
    "\n",
    "X_test = np.loadtxt('df_test.csv',delimiter=',', skiprows=1, usecols = range(0,9))\n",
    "y_test_pre = np.loadtxt('df_test.csv',delimiter=',', skiprows=1, usecols = 9)\n",
    "\n",
    "\n",
    "enc = OneHotEncoder(sparse=False, categories='auto')\n",
    "y_train = enc.fit_transform(y_train_pre.reshape(len(y_train_pre), -1))\n",
    "y_test = enc.transform(y_test_pre.reshape(len(y_test_pre), -1))\n",
    "\n",
    "### Validating the shapes\n",
    "print(\"X_train shape: {}\".format(X_train.shape))\n",
    "print(\"X_test shape: {}\".format(X_test.shape))\n",
    "print(\"y_train shape: {}\".format(y_train.shape))\n",
    "print(\"y_test shape: {}\".format(y_test.shape))"
   ]
  },
  {
   "cell_type": "code",
   "execution_count": null,
   "id": "b479ed3a",
   "metadata": {},
   "outputs": [],
   "source": [
    "### Constructing the model, using sigmoid on our hidden layers and softmax on output layer\n",
    "model = keras.models.Sequential([\n",
    "    keras.layers.Dense(4, input_shape= (9,), activation=\"sigmoid\", name='L1_Sigmoid'),\n",
    "    keras.layers.Dense(4, activation=\"sigmoid\", name = 'L2_Sigmoid'),\n",
    "    keras.layers.Dense(4, activation=\"sigmoid\", name = 'L3_Sigmoid'),\n",
    "    keras.layers.Dense(4, activation=\"sigmoid\", name = 'L4_Sigmoid'),\n",
    "    keras.layers.Dense(4, activation=\"sigmoid\", name = 'L5_Sigmoid'),\n",
    "    keras.layers.Dense(4, activation=\"sigmoid\", name = 'L6_Sigmoid'),\n",
    "    keras.layers.Dense(4, activation=\"sigmoid\", name = 'L7_Sigmoid'),\n",
    "    keras.layers.Dense(4, activation=\"sigmoid\", name = 'L8_Sigmoid'),\n",
    "    keras.layers.Dense(4, activation=\"sigmoid\", name = 'L9_Sigmoid'),\n",
    "    keras.layers.Dense(4, activation=\"sigmoid\", name = 'L10_Sigmoid'),\n",
    "    keras.layers.Dense(6, activation=\"softmax\", name = 'L3_Output')\n",
    "])\n",
    "\n",
    "### Using SGD optimizer & learning rate\n",
    "optimizer = tf.keras.optimizers.SGD(0.001)\n",
    "\n",
    "### Complie layers, set loss function, previously defined optimizer, and accuracy metric\n",
    "model.compile(loss=\"categorical_crossentropy\", optimizer=optimizer, metrics=[\"accuracy\"])\n",
    "\n",
    "### Train model, observe performance on val set\n",
    "history = model.fit(X_train, y_train, verbose = 2, epochs=100000)"
   ]
  },
  {
   "cell_type": "code",
   "execution_count": null,
   "id": "d2d323bc",
   "metadata": {},
   "outputs": [],
   "source": [
    "### Plot performance \n",
    "pd.DataFrame(history.history).plot(figsize=(15, 10)) \n",
    "plt.grid(True)\n",
    "plt.gca().set_ylim(0, 3) \n",
    "plt.show()"
   ]
  },
  {
   "cell_type": "code",
   "execution_count": null,
   "id": "828fe67b",
   "metadata": {},
   "outputs": [],
   "source": [
    "print('Neural Network Model Summary: ')\n",
    "print(model.summary())"
   ]
  },
  {
   "cell_type": "code",
   "execution_count": null,
   "id": "4427a2c4",
   "metadata": {},
   "outputs": [],
   "source": [
    "### Test out model on unseen data\n",
    "results = model.evaluate(X_test, y_test)\n",
    "\n",
    "print('Final test set loss: {:4f}'.format(results[0]))\n",
    "print('Final test set accuracy: {:4f}'.format(results[1]))"
   ]
  },
  {
   "cell_type": "markdown",
   "id": "cfbfdba9",
   "metadata": {},
   "source": [
    "# Our own implementation"
   ]
  },
  {
   "cell_type": "code",
   "execution_count": 40,
   "id": "5356d4e0",
   "metadata": {},
   "outputs": [],
   "source": [
    "x_test = np.loadtxt('df_test.csv',delimiter=',', skiprows=1, usecols = range(0,9))\n",
    "x_train = np.loadtxt('df_train.csv',delimiter=',', skiprows=1, usecols = range(0,9))\n",
    "\n",
    "y_test = np.loadtxt('df_test.csv',delimiter=',', skiprows=1, usecols = 9)\n",
    "y_train = np.loadtxt('df_train.csv',delimiter=',', skiprows=1, usecols = 9)"
   ]
  },
  {
   "cell_type": "code",
   "execution_count": 45,
   "id": "f4f03730",
   "metadata": {},
   "outputs": [
    {
     "data": {
      "text/plain": [
       "(65, 9)"
      ]
     },
     "execution_count": 45,
     "metadata": {},
     "output_type": "execute_result"
    }
   ],
   "source": [
    "x_test.shape"
   ]
  },
  {
   "cell_type": "code",
   "execution_count": 46,
   "id": "e2dea57f",
   "metadata": {},
   "outputs": [
    {
     "data": {
      "text/plain": [
       "(149, 9)"
      ]
     },
     "execution_count": 46,
     "metadata": {},
     "output_type": "execute_result"
    }
   ],
   "source": [
    "x_train.shape"
   ]
  },
  {
   "cell_type": "code",
   "execution_count": 48,
   "id": "eb4d422a",
   "metadata": {},
   "outputs": [
    {
     "data": {
      "text/plain": [
       "(65,)"
      ]
     },
     "execution_count": 48,
     "metadata": {},
     "output_type": "execute_result"
    }
   ],
   "source": [
    "y_test.shape"
   ]
  },
  {
   "cell_type": "code",
   "execution_count": 49,
   "id": "2d0c0633",
   "metadata": {},
   "outputs": [
    {
     "data": {
      "text/plain": [
       "(149,)"
      ]
     },
     "execution_count": 49,
     "metadata": {},
     "output_type": "execute_result"
    }
   ],
   "source": [
    "y_train.shape"
   ]
  },
  {
   "cell_type": "code",
   "execution_count": 66,
   "id": "57f48b28",
   "metadata": {},
   "outputs": [
    {
     "name": "stdout",
     "output_type": "stream",
     "text": [
      "train_x's shape: (149, 9)\n",
      "test_x's shape: (65, 9)\n",
      "Cost:  0.3143817339811881 Train Accuracy: 35.57046979865772\n",
      "Cost:  0.25078772956101797 Train Accuracy: 35.57046979865772\n",
      "Cost:  0.250787729544847 Train Accuracy: 35.57046979865772\n",
      "Cost:  0.2507877295448294 Train Accuracy: 35.57046979865772\n",
      "Cost:  0.2507877295448119 Train Accuracy: 35.57046979865772\n",
      "Cost:  0.2507877295447942 Train Accuracy: 35.57046979865772\n",
      "Cost:  0.2507877295447766 Train Accuracy: 35.57046979865772\n",
      "Cost:  0.250787729544759 Train Accuracy: 35.57046979865772\n",
      "Cost:  0.2507877295447413 Train Accuracy: 35.57046979865772\n",
      "Cost:  0.2507877295447237 Train Accuracy: 35.57046979865772\n",
      "Cost:  0.2507877295447061 Train Accuracy: 35.57046979865772\n",
      "Cost:  0.2507877295446884 Train Accuracy: 35.57046979865772\n",
      "Cost:  0.25078772954467077 Train Accuracy: 35.57046979865772\n",
      "Cost:  0.2507877295446531 Train Accuracy: 35.57046979865772\n",
      "Cost:  0.2507877295446354 Train Accuracy: 35.57046979865772\n",
      "Cost:  0.25078772954461775 Train Accuracy: 35.57046979865772\n",
      "Cost:  0.2507877295446 Train Accuracy: 35.57046979865772\n",
      "Cost:  0.25078772954458234 Train Accuracy: 35.57046979865772\n",
      "Cost:  0.2507877295445646 Train Accuracy: 35.57046979865772\n",
      "Cost:  0.2507877295445469 Train Accuracy: 35.57046979865772\n",
      "Cost:  0.25078772954452916 Train Accuracy: 35.57046979865772\n",
      "Cost:  0.25078772954451145 Train Accuracy: 35.57046979865772\n",
      "Cost:  0.2507877295444937 Train Accuracy: 35.57046979865772\n",
      "Cost:  0.25078772954447587 Train Accuracy: 35.57046979865772\n",
      "Cost:  0.25078772954445816 Train Accuracy: 35.57046979865772\n",
      "Cost:  0.2507877295444404 Train Accuracy: 35.57046979865772\n",
      "Cost:  0.2507877295444226 Train Accuracy: 35.57046979865772\n",
      "Cost:  0.2507877295444048 Train Accuracy: 35.57046979865772\n",
      "Cost:  0.250787729544387 Train Accuracy: 35.57046979865772\n",
      "Cost:  0.2507877295443692 Train Accuracy: 35.57046979865772\n",
      "Cost:  0.2507877295443514 Train Accuracy: 35.57046979865772\n",
      "Cost:  0.25078772954433354 Train Accuracy: 35.57046979865772\n",
      "Cost:  0.2507877295443157 Train Accuracy: 35.57046979865772\n",
      "Cost:  0.2507877295442979 Train Accuracy: 35.57046979865772\n",
      "Cost:  0.2507877295442801 Train Accuracy: 35.57046979865772\n",
      "Cost:  0.2507877295442622 Train Accuracy: 35.57046979865772\n",
      "Cost:  0.25078772954424433 Train Accuracy: 35.57046979865772\n",
      "Cost:  0.25078772954422646 Train Accuracy: 35.57046979865772\n",
      "Cost:  0.2507877295442086 Train Accuracy: 35.57046979865772\n",
      "Cost:  0.2507877295441907 Train Accuracy: 35.57046979865772\n",
      "Cost:  0.2507877295441728 Train Accuracy: 35.57046979865772\n",
      "Cost:  0.25078772954415485 Train Accuracy: 35.57046979865772\n",
      "Cost:  0.250787729544137 Train Accuracy: 35.57046979865772\n",
      "Cost:  0.25078772954411904 Train Accuracy: 35.57046979865772\n",
      "Cost:  0.2507877295441011 Train Accuracy: 35.57046979865772\n",
      "Cost:  0.2507877295440832 Train Accuracy: 35.57046979865772\n",
      "Cost:  0.25078772954406525 Train Accuracy: 35.57046979865772\n",
      "Cost:  0.25078772954404727 Train Accuracy: 35.57046979865772\n",
      "Cost:  0.25078772954402934 Train Accuracy: 35.57046979865772\n",
      "Cost:  0.25078772954401135 Train Accuracy: 35.57046979865772\n",
      "Cost:  0.25078772954399337 Train Accuracy: 35.57046979865772\n",
      "Cost:  0.2507877295439754 Train Accuracy: 35.57046979865772\n",
      "Cost:  0.2507877295439574 Train Accuracy: 35.57046979865772\n",
      "Cost:  0.25078772954393935 Train Accuracy: 35.57046979865772\n",
      "Cost:  0.2507877295439213 Train Accuracy: 35.57046979865772\n",
      "Cost:  0.2507877295439033 Train Accuracy: 35.57046979865772\n",
      "Cost:  0.2507877295438853 Train Accuracy: 35.57046979865772\n",
      "Cost:  0.25078772954386724 Train Accuracy: 35.57046979865772\n",
      "Cost:  0.2507877295438492 Train Accuracy: 35.57046979865772\n",
      "Cost:  0.2507877295438311 Train Accuracy: 35.57046979865772\n",
      "Cost:  0.250787729543813 Train Accuracy: 35.57046979865772\n",
      "Cost:  0.25078772954379497 Train Accuracy: 35.57046979865772\n",
      "Cost:  0.2507877295437769 Train Accuracy: 35.57046979865772\n",
      "Cost:  0.25078772954375883 Train Accuracy: 35.57046979865772\n",
      "Cost:  0.2507877295437407 Train Accuracy: 35.57046979865772\n",
      "Cost:  0.2507877295437226 Train Accuracy: 35.57046979865772\n",
      "Cost:  0.2507877295437045 Train Accuracy: 35.57046979865772\n",
      "Cost:  0.25078772954368633 Train Accuracy: 35.57046979865772\n",
      "Cost:  0.2507877295436682 Train Accuracy: 35.57046979865772\n",
      "Cost:  0.2507877295436501 Train Accuracy: 35.57046979865772\n",
      "Cost:  0.2507877295436319 Train Accuracy: 35.57046979865772\n",
      "Cost:  0.2507877295436137 Train Accuracy: 35.57046979865772\n",
      "Cost:  0.25078772954359557 Train Accuracy: 35.57046979865772\n",
      "Cost:  0.2507877295435774 Train Accuracy: 35.57046979865772\n",
      "Cost:  0.2507877295435592 Train Accuracy: 35.57046979865772\n",
      "Cost:  0.250787729543541 Train Accuracy: 35.57046979865772\n",
      "Cost:  0.2507877295435228 Train Accuracy: 35.57046979865772\n",
      "Cost:  0.2507877295435046 Train Accuracy: 35.57046979865772\n",
      "Cost:  0.2507877295434864 Train Accuracy: 35.57046979865772\n",
      "Cost:  0.2507877295434681 Train Accuracy: 35.57046979865772\n",
      "Train Accuracy: 35.57046979865772\n",
      "Test Accuracy: 35.38461538461539\n"
     ]
    },
    {
     "data": {
      "image/png": "[encoded data removed]",
      "text/plain": [
       "<Figure size 432x288 with 1 Axes>"
      ]
     },
     "metadata": {
      "needs_background": "light"
     },
     "output_type": "display_data"
    }
   ],
   "source": [
    "if __name__ == '__main__':\n",
    "\n",
    "    print(\"train_x's shape: \" + str(x_train.shape))\n",
    "    print(\"test_x's shape: \" + str(x_test.shape))\n",
    "\n",
    "    layers_dims = [1, 6]\n",
    "\n",
    "    ann = ANN(layers_dims)\n",
    "    ann.fit(x_train, train_y, learning_rate=1, n_iterations=8000)\n",
    "    print(\"Train Accuracy:\", ann.predict(x_train, train_y))\n",
    "    print(\"Test Accuracy:\", ann.predict(x_test, test_y))\n",
    "    ann.plot_cost()"
   ]
  },
  {
   "cell_type": "code",
   "execution_count": null,
   "id": "29e148bd",
   "metadata": {},
   "outputs": [],
   "source": []
  },
  {
   "cell_type": "code",
   "execution_count": null,
   "id": "b5f95832",
   "metadata": {},
   "outputs": [],
   "source": []
  }
 ],
 "metadata": {
  "kernelspec": {
   "display_name": "Python 3",
   "language": "python",
   "name": "python3"
  },
  "language_info": {
   "codemirror_mode": {
    "name": "ipython",
    "version": 3
   },
   "file_extension": ".py",
   "mimetype": "text/x-python",
   "name": "python",
   "nbconvert_exporter": "python",
   "pygments_lexer": "ipython3",
   "version": "3.8.8"
  }
 },
 "nbformat": 4,
 "nbformat_minor": 5
}
