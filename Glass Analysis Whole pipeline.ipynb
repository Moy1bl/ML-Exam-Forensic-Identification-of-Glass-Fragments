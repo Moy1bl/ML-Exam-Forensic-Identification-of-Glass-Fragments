{
 "cells": [
  {
   "cell_type": "code",
   "execution_count": 1,
   "id": "1590f598",
   "metadata": {},
   "outputs": [],
   "source": [
    "import numpy as np\n",
    "import pandas as pd\n",
    "import seaborn as sns\n",
    "import matplotlib.pyplot as plt\n",
    "from sklearn.metrics import confusion_matrix\n",
    "from sklearn.metrics import plot_confusion_matrix\n",
    "from sklearn.metrics import accuracy_score\n",
    "from sklearn.tree import DecisionTreeClassifier\n",
    "from sklearn.ensemble import RandomForestClassifier\n",
    "from sklearn.preprocessing import MinMaxScaler\n",
    "from scipy.stats import randint\n",
    "from sklearn.model_selection import RandomizedSearchCV\n",
    "from sklearn.model_selection import GridSearchCV\n",
    "from sklearn.metrics import classification_report\n",
    "from sklearn.neighbors import KNeighborsClassifier\n",
    "from sklearn.model_selection import cross_val_score\n",
    "from sklearn.decomposition import PCA\n",
    "\n",
    "import warnings\n",
    "warnings.filterwarnings('ignore')"
   ]
  },
  {
   "cell_type": "code",
   "execution_count": 2,
   "id": "89f45408",
   "metadata": {},
   "outputs": [],
   "source": [
    "\"\"\"TRAIN\"\"\"\n",
    "df = pd.read_csv(\"df_train.csv\")\n",
    "df_target = df[\"type\"]\n",
    "df_feats = df.drop(columns = [\"type\"])\n",
    "\n",
    "X = df_feats\n",
    "y = df_target\n"
   ]
  },
  {
   "cell_type": "code",
   "execution_count": 3,
   "id": "2cc3b3a2",
   "metadata": {},
   "outputs": [
    {
     "name": "stdout",
     "output_type": "stream",
     "text": [
      "<class 'pandas.core.frame.DataFrame'>\n",
      "RangeIndex: 65 entries, 0 to 64\n",
      "Data columns (total 9 columns):\n",
      " #   Column  Non-Null Count  Dtype  \n",
      "---  ------  --------------  -----  \n",
      " 0   RI      65 non-null     float64\n",
      " 1   Na      65 non-null     float64\n",
      " 2   Mg      65 non-null     float64\n",
      " 3   Al      65 non-null     float64\n",
      " 4   Si      65 non-null     float64\n",
      " 5   K       65 non-null     float64\n",
      " 6   Ca      65 non-null     float64\n",
      " 7   Ba      65 non-null     float64\n",
      " 8   Fe      65 non-null     float64\n",
      "dtypes: float64(9)\n",
      "memory usage: 4.7 KB\n"
     ]
    }
   ],
   "source": [
    "\"\"\"TEST\"\"\"\n",
    "df_test = pd.read_csv(\"df_test.csv\")\n",
    "df_target_test = df_test[\"type\"]\n",
    "df_feats_test = df_test.drop(columns = [\"type\"])\n",
    "\n",
    "X_test = df_feats_test\n",
    "y_test = df_target_test\n",
    "\n",
    "X_test.info()"
   ]
  },
  {
   "cell_type": "code",
   "execution_count": 4,
   "id": "a01b9943",
   "metadata": {},
   "outputs": [
    {
     "data": {
      "text/plain": [
       "(149, 9)"
      ]
     },
     "execution_count": 4,
     "metadata": {},
     "output_type": "execute_result"
    }
   ],
   "source": [
    "\"\"\"Min-Max Normalization\"\"\"\n",
    "scaler = MinMaxScaler()\n",
    "df_norm_feats = pd.DataFrame(scaler.fit_transform(df_feats), columns=[\"RI\", \"Na\", \"Mg\", \"Al\", \"Si\", \"K\", \"Ca\", \"Ba\", \"Fe\"])\n",
    "\n",
    "train_df_normalized = pd.concat([df_norm_feats, df_target], axis=1)\n",
    "\n",
    "X_norm = train_df_normalized.drop(columns=\"type\")\n",
    "y_norm = train_df_normalized[\"type\"]\n",
    "X_norm.shape"
   ]
  },
  {
   "cell_type": "code",
   "execution_count": 5,
   "id": "5ea9b16c",
   "metadata": {},
   "outputs": [
    {
     "data": {
      "text/plain": [
       "(65, 9)"
      ]
     },
     "execution_count": 5,
     "metadata": {},
     "output_type": "execute_result"
    }
   ],
   "source": [
    "\"\"\"Min-Max Normalization\"\"\"\n",
    "scaler = MinMaxScaler()\n",
    "df_norm_feats_test = pd.DataFrame(scaler.fit_transform(df_feats_test), columns=[\"RI\", \"Na\", \"Mg\", \"Al\", \"Si\", \"K\", \"Ca\", \"Ba\", \"Fe\"])\n",
    "\n",
    "test_df_normalized = pd.concat([df_norm_feats_test, df_target_test], axis=1)\n",
    "\n",
    "X_norm_test = test_df_normalized.drop(columns=\"type\")\n",
    "y_norm_test = test_df_normalized[\"type\"]\n",
    "X_norm_test.shape"
   ]
  },
  {
   "cell_type": "markdown",
   "id": "24107a04",
   "metadata": {},
   "source": [
    "## PCA "
   ]
  },
  {
   "cell_type": "code",
   "execution_count": 6,
   "id": "f1f1e316",
   "metadata": {},
   "outputs": [],
   "source": [
    " from sklearn.preprocessing import StandardScaler\n",
    "Xs = StandardScaler().fit_transform(X)\n",
    "pca = PCA(n_components=7)\n",
    "X_pca = pca.fit(Xs)\n"
   ]
  },
  {
   "cell_type": "code",
   "execution_count": 7,
   "id": "2c6298f1",
   "metadata": {},
   "outputs": [
    {
     "data": {
      "text/plain": [
       "<function matplotlib.pyplot.show(close=None, block=None)>"
      ]
     },
     "execution_count": 7,
     "metadata": {},
     "output_type": "execute_result"
    },
    {
     "data": {
      "image/png": "[encoded data removed]",
      "text/plain": [
       "<Figure size 432x288 with 1 Axes>"
      ]
     },
     "metadata": {
      "needs_background": "light"
     },
     "output_type": "display_data"
    }
   ],
   "source": [
    "pca.explained_variance_ratio_\n",
    "\n",
    "plt.plot(range(1,8), pca.explained_variance_ratio_, 'ro-', linewidth = 2)\n",
    "plt.show"
   ]
  },
  {
   "cell_type": "code",
   "execution_count": 8,
   "id": "8cec4b6a",
   "metadata": {},
   "outputs": [
    {
     "data": {
      "text/plain": [
       "array([0.28223186, 0.23040409, 0.1641962 , 0.11715043, 0.10215381,\n",
       "       0.05537566, 0.0416824 ])"
      ]
     },
     "execution_count": 8,
     "metadata": {},
     "output_type": "execute_result"
    }
   ],
   "source": [
    "pca.explained_variance_ratio_"
   ]
  },
  {
   "cell_type": "code",
   "execution_count": 9,
   "id": "d2f2a214",
   "metadata": {},
   "outputs": [],
   "source": [
    "pca = PCA(n_components=4)\n",
    "principalComponents = pca.fit_transform(X)\n",
    "X_PCA = pd.DataFrame(data = principalComponents\n",
    "             , columns = ['principal component 1', 'principal component 2','principal component 3','principal component 4'])\n"
   ]
  },
  {
   "cell_type": "markdown",
   "id": "d0ab2548",
   "metadata": {},
   "source": [
    "Optimal n_components is equal to 4"
   ]
  },
  {
   "cell_type": "markdown",
   "id": "16bf7699",
   "metadata": {},
   "source": [
    "## Decision Tree"
   ]
  },
  {
   "cell_type": "code",
   "execution_count": 10,
   "id": "6ced1237",
   "metadata": {},
   "outputs": [
    {
     "name": "stdout",
     "output_type": "stream",
     "text": [
      "Tuned Decision Tree Parameters: {'max_depth': 20, 'min_samples_split': 2}\n",
      "Best score is 0.6445977011494253\n"
     ]
    }
   ],
   "source": [
    "\"\"\"Random Search for optimal hyperparameters with cross validation\"\"\" \"\"\"DO NOT USE\"\"\"\n",
    "\n",
    "param_dist = {\"max_depth\": randint(10, 50),\n",
    "              \"min_samples_split\": randint(1, 20)}\n",
    "\n",
    "tree = DecisionTreeClassifier()\n",
    "\n",
    "tree_cv = RandomizedSearchCV(tree, param_dist, cv=5)\n",
    "\n",
    "tree_cv.fit(X_norm,y_norm)\n",
    "\n",
    "#tree_cv.fit(X,y)\n",
    "\n",
    "print(\"Tuned Decision Tree Parameters: {}\".format(tree_cv.best_params_))\n",
    "print(\"Best score is {}\".format(tree_cv.best_score_))"
   ]
  },
  {
   "cell_type": "code",
   "execution_count": 16,
   "id": "39c269db",
   "metadata": {},
   "outputs": [
    {
     "name": "stdout",
     "output_type": "stream",
     "text": [
      "Optimal hyperparameter combination: {'max_depth': 6, 'min_samples_split': 3} 1\n",
      "\n",
      "Mean cross-validated training accuracy score: 0.6714942528735632 1\n",
      "Optimal hyperparameter combination: {'max_depth': 20, 'min_samples_split': 4} 2\n",
      "\n",
      "Mean cross-validated training accuracy score: 0.6579310344827587 2\n",
      "Optimal hyperparameter combination: {'max_depth': 6, 'min_samples_split': 3} 3\n",
      "\n",
      "Mean cross-validated training accuracy score: 0.6512643678160919 3\n",
      "Optimal hyperparameter combination: {'max_depth': 30, 'min_samples_split': 2} 4\n",
      "\n",
      "Mean cross-validated training accuracy score: 0.651264367816092 4\n",
      "Optimal hyperparameter combination: {'max_depth': 6, 'min_samples_split': 2} 5\n",
      "\n",
      "Mean cross-validated training accuracy score: 0.6577011494252873 5\n",
      "Optimal hyperparameter combination: {'max_depth': 6, 'min_samples_split': 5} 6\n",
      "\n",
      "Mean cross-validated training accuracy score: 0.6579310344827587 6\n",
      "Optimal hyperparameter combination: {'max_depth': 6, 'min_samples_split': 3} 7\n",
      "\n",
      "Mean cross-validated training accuracy score: 0.6714942528735632 7\n",
      "Optimal hyperparameter combination: {'max_depth': 6, 'min_samples_split': 4} 8\n",
      "\n",
      "Mean cross-validated training accuracy score: 0.651264367816092 8\n",
      "Optimal hyperparameter combination: {'max_depth': 6, 'min_samples_split': 4} 9\n",
      "\n",
      "Mean cross-validated training accuracy score: 0.6581609195402299 9\n",
      "Optimal hyperparameter combination: {'max_depth': 50, 'min_samples_split': 3} 10\n",
      "\n",
      "Mean cross-validated training accuracy score: 0.651264367816092 10\n",
      "Optimal hyperparameter combination: {'max_depth': 6, 'min_samples_split': 5} 11\n",
      "\n",
      "Mean cross-validated training accuracy score: 0.6579310344827587 11\n",
      "Optimal hyperparameter combination: {'max_depth': 12, 'min_samples_split': 2} 12\n",
      "\n",
      "Mean cross-validated training accuracy score: 0.6577011494252873 12\n",
      "Optimal hyperparameter combination: {'max_depth': 6, 'min_samples_split': 4} 13\n",
      "\n",
      "Mean cross-validated training accuracy score: 0.6579310344827587 13\n",
      "Optimal hyperparameter combination: {'max_depth': 6, 'min_samples_split': 3} 14\n",
      "\n",
      "Mean cross-validated training accuracy score: 0.6581609195402299 14\n",
      "Optimal hyperparameter combination: {'max_depth': 12, 'min_samples_split': 2} 15\n",
      "\n",
      "Mean cross-validated training accuracy score: 0.6579310344827587 15\n",
      "Optimal hyperparameter combination: {'max_depth': 6, 'min_samples_split': 2} 16\n",
      "\n",
      "Mean cross-validated training accuracy score: 0.6648275862068965 16\n",
      "Optimal hyperparameter combination: {'max_depth': 30, 'min_samples_split': 2} 17\n",
      "\n",
      "Mean cross-validated training accuracy score: 0.6512643678160919 17\n",
      "Optimal hyperparameter combination: {'max_depth': 6, 'min_samples_split': 3} 18\n",
      "\n",
      "Mean cross-validated training accuracy score: 0.6512643678160919 18\n",
      "Optimal hyperparameter combination: {'max_depth': 6, 'min_samples_split': 4} 19\n",
      "\n",
      "Mean cross-validated training accuracy score: 0.6645977011494253 19\n"
     ]
    }
   ],
   "source": [
    "\"\"\"Grid Search for optimal hyper parameterds with cross validation on Normalized Data\"\"\"\n",
    "hyperparameter_space = {'max_depth':[2,4,6,8,10,12,15,20,30,40,50],\n",
    "                        'min_samples_split':[1,2,3,4,5,6,8,10]}\n",
    "\n",
    "\n",
    "for i in range (1,20): \n",
    "\n",
    "    gs = GridSearchCV(tree, param_grid=hyperparameter_space,\n",
    "                      scoring=\"accuracy\",\n",
    "                      n_jobs=-1, cv=5, return_train_score=True)\n",
    "\n",
    "    gs.fit(X_norm, y_norm)\n",
    "    print(\"Optimal hyperparameter combination:\", gs.best_params_, i)\n",
    "    print()\n",
    "    print(\"Mean cross-validated training accuracy score:\",\n",
    "          gs.best_score_, i)"
   ]
  },
  {
   "cell_type": "code",
   "execution_count": 17,
   "id": "84e7ca4e",
   "metadata": {
    "scrolled": true
   },
   "outputs": [
    {
     "name": "stdout",
     "output_type": "stream",
     "text": [
      "Optimal hyperparameter combination: {'max_depth': 40, 'min_samples_split': 4} 1\n",
      "\n",
      "Mean cross-validated training accuracy score: 0.6510344827586207 1\n",
      "Optimal hyperparameter combination: {'max_depth': 6, 'min_samples_split': 4} 2\n",
      "\n",
      "Mean cross-validated training accuracy score: 0.6579310344827587 2\n",
      "Optimal hyperparameter combination: {'max_depth': 6, 'min_samples_split': 4} 3\n",
      "\n",
      "Mean cross-validated training accuracy score: 0.6581609195402298 3\n",
      "Optimal hyperparameter combination: {'max_depth': 6, 'min_samples_split': 4} 4\n",
      "\n",
      "Mean cross-validated training accuracy score: 0.6579310344827587 4\n",
      "Optimal hyperparameter combination: {'max_depth': 6, 'min_samples_split': 3} 5\n",
      "\n",
      "Mean cross-validated training accuracy score: 0.6645977011494253 5\n",
      "Optimal hyperparameter combination: {'max_depth': 6, 'min_samples_split': 2} 6\n",
      "\n",
      "Mean cross-validated training accuracy score: 0.6645977011494253 6\n",
      "Optimal hyperparameter combination: {'max_depth': 6, 'min_samples_split': 2} 7\n",
      "\n",
      "Mean cross-validated training accuracy score: 0.6645977011494253 7\n",
      "Optimal hyperparameter combination: {'max_depth': 6, 'min_samples_split': 3} 8\n",
      "\n",
      "Mean cross-validated training accuracy score: 0.6581609195402299 8\n",
      "Optimal hyperparameter combination: {'max_depth': 30, 'min_samples_split': 4} 9\n",
      "\n",
      "Mean cross-validated training accuracy score: 0.6579310344827587 9\n",
      "Optimal hyperparameter combination: {'max_depth': 6, 'min_samples_split': 4} 10\n",
      "\n",
      "Mean cross-validated training accuracy score: 0.6581609195402299 10\n",
      "Optimal hyperparameter combination: {'max_depth': 20, 'min_samples_split': 4} 11\n",
      "\n",
      "Mean cross-validated training accuracy score: 0.6579310344827587 11\n",
      "Optimal hyperparameter combination: {'max_depth': 6, 'min_samples_split': 4} 12\n",
      "\n",
      "Mean cross-validated training accuracy score: 0.6645977011494253 12\n",
      "Optimal hyperparameter combination: {'max_depth': 6, 'min_samples_split': 5} 13\n",
      "\n",
      "Mean cross-validated training accuracy score: 0.6577011494252873 13\n",
      "Optimal hyperparameter combination: {'max_depth': 6, 'min_samples_split': 2} 14\n",
      "\n",
      "Mean cross-validated training accuracy score: 0.6714942528735632 14\n",
      "Optimal hyperparameter combination: {'max_depth': 6, 'min_samples_split': 5} 15\n",
      "\n",
      "Mean cross-validated training accuracy score: 0.6645977011494253 15\n",
      "Optimal hyperparameter combination: {'max_depth': 30, 'min_samples_split': 2} 16\n",
      "\n",
      "Mean cross-validated training accuracy score: 0.6579310344827587 16\n",
      "Optimal hyperparameter combination: {'max_depth': 6, 'min_samples_split': 2} 17\n",
      "\n",
      "Mean cross-validated training accuracy score: 0.6581609195402299 17\n",
      "Optimal hyperparameter combination: {'max_depth': 6, 'min_samples_split': 5} 18\n",
      "\n",
      "Mean cross-validated training accuracy score: 0.651264367816092 18\n",
      "Optimal hyperparameter combination: {'max_depth': 6, 'min_samples_split': 3} 19\n",
      "\n",
      "Mean cross-validated training accuracy score: 0.6648275862068965 19\n"
     ]
    }
   ],
   "source": [
    "\"\"\"Grid Search for optimal hyper parameterds with cross validation on unnormalized Data\"\"\"\n",
    "hyperparameter_space = {'max_depth':[2,3,4,6,8,10,12,15,20,30,40,50],\n",
    "                        'min_samples_split':[1,2,3,4,5,6,8,10]}\n",
    "\n",
    "\n",
    "for n in range (1,20):\n",
    "    gs = GridSearchCV(tree, param_grid=hyperparameter_space,\n",
    "                      scoring=\"accuracy\",\n",
    "                      n_jobs=-1, cv=5, return_train_score=True)\n",
    "\n",
    "    gs.fit(X, y)\n",
    "    print(\"Optimal hyperparameter combination:\", gs.best_params_, n)\n",
    "    print()\n",
    "    print(\"Mean cross-validated training accuracy score:\",\n",
    "          gs.best_score_, n)"
   ]
  },
  {
   "cell_type": "code",
   "execution_count": 37,
   "id": "c03e6d5c",
   "metadata": {},
   "outputs": [
    {
     "name": "stdout",
     "output_type": "stream",
     "text": [
      "              precision    recall  f1-score   support\n",
      "\n",
      "           1       0.73      0.76      0.74        21\n",
      "           2       0.68      0.65      0.67        23\n",
      "           3       0.50      0.40      0.44         5\n",
      "           5       0.80      1.00      0.89         4\n",
      "           6       0.50      0.67      0.57         3\n",
      "           7       1.00      0.89      0.94         9\n",
      "\n",
      "    accuracy                           0.72        65\n",
      "   macro avg       0.70      0.73      0.71        65\n",
      "weighted avg       0.73      0.72      0.72        65\n",
      "\n"
     ]
    }
   ],
   "source": [
    "\"\"\"Unnormalized\"\"\"\n",
    "DTree_un = DecisionTreeClassifier(max_depth = 6, min_samples_split = 2)\n",
    "DTree_un.fit(X, y)\n",
    "#Predict test data set.\n",
    "y_pred = DTree_un.predict(X_test)\n",
    "#Checking performance our model with classification report.\n",
    "#confusion_matrix = confusion_matrix(y_test,y_pred)\n",
    "#print(confusion_matrix)\n",
    "print(classification_report(y_test, y_pred))"
   ]
  },
  {
   "cell_type": "code",
   "execution_count": 38,
   "id": "34a0a061",
   "metadata": {},
   "outputs": [
    {
     "data": {
      "image/png": "[encoded data removed]",
      "text/plain": [
       "<Figure size 432x288 with 2 Axes>"
      ]
     },
     "metadata": {
      "needs_background": "light"
     },
     "output_type": "display_data"
    }
   ],
   "source": [
    "plot_confusion_matrix(DTree_un, X_test, y_test)  \n",
    "plt.show()"
   ]
  },
  {
   "cell_type": "code",
   "execution_count": 34,
   "id": "5f3d508f",
   "metadata": {},
   "outputs": [
    {
     "name": "stdout",
     "output_type": "stream",
     "text": [
      "              precision    recall  f1-score   support\n",
      "\n",
      "           1       0.67      0.76      0.71        21\n",
      "           2       0.68      0.65      0.67        23\n",
      "           3       0.00      0.00      0.00         5\n",
      "           5       0.50      0.75      0.60         4\n",
      "           6       1.00      0.67      0.80         3\n",
      "           7       0.89      0.89      0.89         9\n",
      "\n",
      "    accuracy                           0.68        65\n",
      "   macro avg       0.62      0.62      0.61        65\n",
      "weighted avg       0.66      0.68      0.66        65\n",
      "\n"
     ]
    }
   ],
   "source": [
    "DTree = DecisionTreeClassifier(max_depth = 6, min_samples_split = 3)\n",
    "DTree.fit(X_norm, y_norm)\n",
    "#Predict test data set.\n",
    "y_pred = DTree.predict(X_norm_test)\n",
    "#Checking performance our model with classification report.\n",
    "#confusion_matrix = confusion_matrix(y_test,y_pred)\n",
    "#print(confusion_matrix)\n",
    "print(classification_report(y_norm_test, y_pred))"
   ]
  },
  {
   "cell_type": "code",
   "execution_count": 39,
   "id": "a2d68261",
   "metadata": {},
   "outputs": [
    {
     "data": {
      "image/png": "[encoded data removed]",
      "text/plain": [
       "<Figure size 432x288 with 2 Axes>"
      ]
     },
     "metadata": {
      "needs_background": "light"
     },
     "output_type": "display_data"
    }
   ],
   "source": [
    "plot_confusion_matrix(DTree, X_norm_test, y_norm_test)  \n",
    "plt.show()"
   ]
  },
  {
   "cell_type": "code",
   "execution_count": 21,
   "id": "aff39dea",
   "metadata": {},
   "outputs": [
    {
     "name": "stdout",
     "output_type": "stream",
     "text": [
      "Optimal hyperparameter combination: {'max_depth': 10, 'min_samples_split': 4} 1\n",
      "\n",
      "Mean cross-validated training accuracy score: 0.638390804597701 1\n",
      "Optimal hyperparameter combination: {'max_depth': 10, 'min_samples_split': 2} 2\n",
      "\n",
      "Mean cross-validated training accuracy score: 0.6452873563218391 2\n",
      "Optimal hyperparameter combination: {'max_depth': 40, 'min_samples_split': 3} 3\n",
      "\n",
      "Mean cross-validated training accuracy score: 0.6457471264367817 3\n",
      "Optimal hyperparameter combination: {'max_depth': 12, 'min_samples_split': 3} 4\n",
      "\n",
      "Mean cross-validated training accuracy score: 0.6524137931034483 4\n",
      "Optimal hyperparameter combination: {'max_depth': 50, 'min_samples_split': 3} 5\n",
      "\n",
      "Mean cross-validated training accuracy score: 0.6388505747126436 5\n",
      "Optimal hyperparameter combination: {'max_depth': 40, 'min_samples_split': 3} 6\n",
      "\n",
      "Mean cross-validated training accuracy score: 0.6455172413793103 6\n",
      "Optimal hyperparameter combination: {'max_depth': 6, 'min_samples_split': 3} 7\n",
      "\n",
      "Mean cross-validated training accuracy score: 0.6586206896551724 7\n",
      "Optimal hyperparameter combination: {'max_depth': 30, 'min_samples_split': 3} 8\n",
      "\n",
      "Mean cross-validated training accuracy score: 0.639080459770115 8\n",
      "Optimal hyperparameter combination: {'max_depth': 8, 'min_samples_split': 2} 9\n",
      "\n",
      "Mean cross-validated training accuracy score: 0.6517241379310346 9\n",
      "Optimal hyperparameter combination: {'max_depth': 20, 'min_samples_split': 3} 10\n",
      "\n",
      "Mean cross-validated training accuracy score: 0.6455172413793103 10\n",
      "Optimal hyperparameter combination: {'max_depth': 30, 'min_samples_split': 3} 11\n",
      "\n",
      "Mean cross-validated training accuracy score: 0.6455172413793103 11\n",
      "Optimal hyperparameter combination: {'max_depth': 6, 'min_samples_split': 3} 12\n",
      "\n",
      "Mean cross-validated training accuracy score: 0.6386206896551724 12\n",
      "Optimal hyperparameter combination: {'max_depth': 50, 'min_samples_split': 2} 13\n",
      "\n",
      "Mean cross-validated training accuracy score: 0.6388505747126436 13\n",
      "Optimal hyperparameter combination: {'max_depth': 10, 'min_samples_split': 3} 14\n",
      "\n",
      "Mean cross-validated training accuracy score: 0.6452873563218391 14\n",
      "Optimal hyperparameter combination: {'max_depth': 30, 'min_samples_split': 2} 15\n",
      "\n",
      "Mean cross-validated training accuracy score: 0.6521839080459769 15\n",
      "Optimal hyperparameter combination: {'max_depth': 8, 'min_samples_split': 3} 16\n",
      "\n",
      "Mean cross-validated training accuracy score: 0.6519540229885058 16\n",
      "Optimal hyperparameter combination: {'max_depth': 30, 'min_samples_split': 3} 17\n",
      "\n",
      "Mean cross-validated training accuracy score: 0.6386206896551724 17\n",
      "Optimal hyperparameter combination: {'max_depth': 30, 'min_samples_split': 3} 18\n",
      "\n",
      "Mean cross-validated training accuracy score: 0.6455172413793103 18\n",
      "Optimal hyperparameter combination: {'max_depth': 50, 'min_samples_split': 3} 19\n",
      "\n",
      "Mean cross-validated training accuracy score: 0.6388505747126436 19\n"
     ]
    }
   ],
   "source": [
    "\"\"\"Grid Search for optimal hyper parameterds with cross validation on PCA\"\"\"\n",
    "hyperparameter_space = {'max_depth':[2,3,4,6,8,10,12,15,20,30,40,50],\n",
    "                        'min_samples_split':[1,2,3,4,5,6,8,10]}\n",
    "tree = DecisionTreeClassifier()\n",
    "\n",
    "for p in range (1,20):\n",
    "    gs = GridSearchCV(tree, param_grid=hyperparameter_space,\n",
    "                      scoring=\"accuracy\",\n",
    "                      n_jobs=-1, cv=5, return_train_score=True)\n",
    "\n",
    "    gs.fit(X_PCA, y)\n",
    "    print(\"Optimal hyperparameter combination:\", gs.best_params_, p)\n",
    "    print()\n",
    "    print(\"Mean cross-validated training accuracy score:\",\n",
    "          gs.best_score_, p)\n",
    "\n"
   ]
  },
  {
   "cell_type": "code",
   "execution_count": 41,
   "id": "5eea2536",
   "metadata": {},
   "outputs": [],
   "source": [
    "X_test_PCA = pca.fit_transform(X_test)"
   ]
  },
  {
   "cell_type": "code",
   "execution_count": 42,
   "id": "6d2381da",
   "metadata": {},
   "outputs": [
    {
     "name": "stdout",
     "output_type": "stream",
     "text": [
      "              precision    recall  f1-score   support\n",
      "\n",
      "           1       0.56      0.90      0.69        21\n",
      "           2       0.61      0.48      0.54        23\n",
      "           3       0.00      0.00      0.00         5\n",
      "           5       0.12      0.25      0.17         4\n",
      "           6       0.00      0.00      0.00         3\n",
      "           7       1.00      0.11      0.20         9\n",
      "\n",
      "    accuracy                           0.49        65\n",
      "   macro avg       0.38      0.29      0.27        65\n",
      "weighted avg       0.54      0.49      0.45        65\n",
      "\n"
     ]
    }
   ],
   "source": [
    "DTree = DecisionTreeClassifier(max_depth = 6, min_samples_split = 3)\n",
    "DTree.fit(X_PCA, y)\n",
    "#Predict test data set.\n",
    "y_pred = DTree.predict(X_test_PCA)\n",
    "#Checking performance our model with classification report.\n",
    "#confusion_matrix = confusion_matrix(y_test,y_pred)\n",
    "#print(confusion_matrix)\n",
    "print(classification_report(y_test, y_pred))"
   ]
  },
  {
   "cell_type": "markdown",
   "id": "d0ff9d5a",
   "metadata": {},
   "source": [
    "## KNearest Neighbors\n"
   ]
  },
  {
   "cell_type": "code",
   "execution_count": 69,
   "id": "0a819e8e",
   "metadata": {},
   "outputs": [
    {
     "name": "stdout",
     "output_type": "stream",
     "text": [
      "Optimal hyperparameter combination: {'n_neighbors': 10}\n",
      "\n",
      "Mean cross-validated training accuracy score: 0.6583908045977012\n"
     ]
    }
   ],
   "source": [
    "\"\"\"KNN Hyperparametertuning unnormalized data\"\"\"\n",
    "n_neighbors = list(range(2,30))\n",
    "#Convert to dictionary\n",
    "hyperparameters = dict(n_neighbors=n_neighbors)\n",
    "#Create new KNN object\n",
    "knn = KNeighborsClassifier()\n",
    "#Use GridSearch\n",
    "clf = GridSearchCV(knn, hyperparameters, cv=5)\n",
    "#Fit the model\n",
    "clf.fit(X,y)\n",
    "print(\"Optimal hyperparameter combination:\", clf.best_params_)\n",
    "print()\n",
    "print(\"Mean cross-validated training accuracy score:\",\n",
    "      clf.best_score_)"
   ]
  },
  {
   "cell_type": "code",
   "execution_count": 35,
   "id": "877760f5",
   "metadata": {},
   "outputs": [
    {
     "name": "stdout",
     "output_type": "stream",
     "text": [
      "Optimal hyperparameter combination: {'n_neighbors': 3}\n",
      "\n",
      "Mean cross-validated training accuracy score: 0.6445977011494253\n"
     ]
    }
   ],
   "source": [
    "\"\"\"KNN Hyperparametertuning normalized data\"\"\"\n",
    "n_neighbors = list(range(2,30))\n",
    "#Convert to dictionary\n",
    "hyperparameters = dict(n_neighbors=n_neighbors)\n",
    "#Create new KNN object\n",
    "knn = KNeighborsClassifier()\n",
    "#Use GridSearch\n",
    "clf = GridSearchCV(knn, hyperparameters, cv=5)\n",
    "#Fit the model\n",
    "clf.fit(X_norm,y_norm)\n",
    "print(\"Optimal hyperparameter combination:\", clf.best_params_)\n",
    "print()\n",
    "print(\"Mean cross-validated training accuracy score:\",\n",
    "      clf.best_score_)"
   ]
  },
  {
   "cell_type": "code",
   "execution_count": 35,
   "id": "22276600",
   "metadata": {},
   "outputs": [
    {
     "name": "stdout",
     "output_type": "stream",
     "text": [
      "              precision    recall  f1-score   support\n",
      "\n",
      "           1       0.61      0.90      0.73        21\n",
      "           2       0.84      0.70      0.76        23\n",
      "           3       0.00      0.00      0.00         5\n",
      "           5       0.60      0.75      0.67         4\n",
      "           6       1.00      0.67      0.80         3\n",
      "           7       1.00      0.89      0.94         9\n",
      "\n",
      "    accuracy                           0.74        65\n",
      "   macro avg       0.68      0.65      0.65        65\n",
      "weighted avg       0.72      0.74      0.71        65\n",
      "\n"
     ]
    }
   ],
   "source": [
    "knn_1 = KNeighborsClassifier(n_neighbors = 3)\n",
    "knn_1.fit(X_norm, y_norm)\n",
    "#Predict test data set.\n",
    "y_pred = knn_1.predict(X_norm_test)\n",
    "#Checking performance our model with classification report.\n",
    "print(classification_report(y_norm_test, y_pred))\n"
   ]
  },
  {
   "cell_type": "code",
   "execution_count": 36,
   "id": "4aa87055",
   "metadata": {},
   "outputs": [
    {
     "data": {
      "image/png": "[encoded data removed]",
      "text/plain": [
       "<Figure size 432x288 with 2 Axes>"
      ]
     },
     "metadata": {
      "needs_background": "light"
     },
     "output_type": "display_data"
    }
   ],
   "source": [
    "plot_confusion_matrix(knn_1, X_norm_test, y_norm_test)  \n",
    "plt.show()"
   ]
  },
  {
   "cell_type": "code",
   "execution_count": 20,
   "id": "aacbff49",
   "metadata": {},
   "outputs": [
    {
     "name": "stdout",
     "output_type": "stream",
     "text": [
      "              precision    recall  f1-score   support\n",
      "\n",
      "           1       0.45      0.62      0.52        21\n",
      "           2       0.50      0.48      0.49        23\n",
      "           3       0.00      0.00      0.00         5\n",
      "           5       0.33      0.75      0.46         4\n",
      "           6       0.00      0.00      0.00         3\n",
      "           7       1.00      0.44      0.62         9\n",
      "\n",
      "    accuracy                           0.48        65\n",
      "   macro avg       0.38      0.38      0.35        65\n",
      "weighted avg       0.48      0.48      0.45        65\n",
      "\n"
     ]
    }
   ],
   "source": [
    "knn_1 = KNeighborsClassifier(n_neighbors = 3)\n",
    "knn_1.fit(X_PCA, y)\n",
    "#Predict test data set.\n",
    "y_pred = knn_1.predict(X_test_PCA)\n",
    "#Checking performance our model with classification report.\n",
    "#confusion_matrix = confusion_matrix(y_test,y_pred)\n",
    "#print(confusion_matrix)\n",
    "print(classification_report(y_test, y_pred))"
   ]
  },
  {
   "cell_type": "markdown",
   "id": "3dbafda1",
   "metadata": {},
   "source": [
    "## Random Forest"
   ]
  },
  {
   "cell_type": "code",
   "execution_count": 38,
   "id": "0a4a81cd",
   "metadata": {},
   "outputs": [
    {
     "name": "stdout",
     "output_type": "stream",
     "text": [
      "{'n_estimators': [200, 288, 377, 466, 555, 644, 733, 822, 911, 1000], 'max_features': ['auto', 'sqrt'], 'max_depth': [10, 20, 30, 40, 50, 60, 70, 80, 90, 100, 110, None], 'min_samples_split': [2, 5, 10], 'min_samples_leaf': [1, 2, 4], 'bootstrap': [True, False]}\n"
     ]
    }
   ],
   "source": [
    "\"\"\"RANDOM SEARCH\"\"\"\n",
    "# Number of trees in random forest\n",
    "n_estimators = [int(x) for x in np.linspace(start = 200, stop = 1000, num = 10)]\n",
    "# Number of features to consider at every split\n",
    "max_features = ['auto', 'sqrt']\n",
    "# Maximum number of levels in tree\n",
    "max_depth = [int(x) for x in np.linspace(10, 110, num = 11)]\n",
    "max_depth.append(None)\n",
    "# Minimum number of samples required to split a node\n",
    "min_samples_split = [2, 5, 10]\n",
    "# Minimum number of samples required at each leaf node\n",
    "min_samples_leaf = [1, 2, 4]\n",
    "# Method of selecting samples for training each tree\n",
    "bootstrap = [True, False]\n",
    "# Create the random grid\n",
    "random_grid = {'n_estimators': n_estimators,\n",
    "               'max_features': max_features,\n",
    "               'max_depth': max_depth,\n",
    "               'min_samples_split': min_samples_split,\n",
    "               'min_samples_leaf': min_samples_leaf,\n",
    "               'bootstrap': bootstrap}\n",
    "print(random_grid)"
   ]
  },
  {
   "cell_type": "code",
   "execution_count": 24,
   "id": "068c66fe",
   "metadata": {},
   "outputs": [
    {
     "name": "stdout",
     "output_type": "stream",
     "text": [
      "Fitting 5 folds for each of 100 candidates, totalling 500 fits\n"
     ]
    },
    {
     "data": {
      "text/plain": [
       "{'n_estimators': 200,\n",
       " 'min_samples_split': 2,\n",
       " 'min_samples_leaf': 1,\n",
       " 'max_features': 'sqrt',\n",
       " 'max_depth': 50,\n",
       " 'bootstrap': True}"
      ]
     },
     "execution_count": 24,
     "metadata": {},
     "output_type": "execute_result"
    }
   ],
   "source": [
    "rf = RandomForestClassifier()\n",
    "# Random search of parameters, using 3 fold cross validation, \n",
    "# search across 100 different combinations, and use all available cores\n",
    "rf_random = RandomizedSearchCV(estimator = rf, param_distributions = random_grid, n_iter = 100, cv = 5, verbose=2, random_state=42, n_jobs = -1)\n",
    "# Fit the random search model\n",
    "rf_random.fit(X_norm, y_norm)\n",
    "rf_random.best_params_"
   ]
  },
  {
   "cell_type": "code",
   "execution_count": 25,
   "id": "276143db",
   "metadata": {},
   "outputs": [],
   "source": [
    "def evaluate(model, test_features, test_labels):\n",
    "    predictions = model.predict(test_features)\n",
    "    errors = abs(predictions - test_labels)\n",
    "    mape = 100 * np.mean(errors / test_labels)\n",
    "    accuracy = 100 - mape\n",
    "    print('Model Performance')\n",
    "    print('Average Error: {:0.4f} degrees.'.format(np.mean(errors)))\n",
    "    print('Accuracy = {:0.2f}%.'.format(accuracy))\n",
    "    \n",
    "    return accuracy"
   ]
  },
  {
   "cell_type": "code",
   "execution_count": 26,
   "id": "861d597e",
   "metadata": {},
   "outputs": [
    {
     "name": "stdout",
     "output_type": "stream",
     "text": [
      "Model Performance\n",
      "Average Error: 0.5385 degrees.\n",
      "Accuracy = 72.39%.\n",
      "Model Performance\n",
      "Average Error: 0.3846 degrees.\n",
      "Accuracy = 79.41%.\n",
      "Improvement of 9.70%.\n"
     ]
    }
   ],
   "source": [
    "base_model = RandomForestClassifier(n_estimators = 10, random_state = 42)\n",
    "base_model.fit(X_norm, y_norm)\n",
    "base_accuracy = evaluate(base_model, X_norm_test, y_norm_test)\n",
    "\n",
    "best_random = rf_random.best_estimator_\n",
    "random_accuracy = evaluate(best_random, X_norm_test, y_norm_test)\n",
    "\n",
    "print('Improvement of {:0.2f}%.'.format( 100 * (random_accuracy - base_accuracy) / base_accuracy))"
   ]
  },
  {
   "cell_type": "code",
   "execution_count": 39,
   "id": "696daef8",
   "metadata": {},
   "outputs": [
    {
     "data": {
      "image/png": "[encoded data removed]",
      "text/plain": [
       "<Figure size 432x288 with 2 Axes>"
      ]
     },
     "metadata": {
      "needs_background": "light"
     },
     "output_type": "display_data"
    }
   ],
   "source": [
    "plot_confusion_matrix(best_random, X_norm_test, y_norm_test)  \n",
    "plt.show()"
   ]
  },
  {
   "cell_type": "code",
   "execution_count": null,
   "id": "ab519d38",
   "metadata": {},
   "outputs": [],
   "source": []
  }
 ],
 "metadata": {
  "kernelspec": {
   "display_name": "Python 3",
   "language": "python",
   "name": "python3"
  },
  "language_info": {
   "codemirror_mode": {
    "name": "ipython",
    "version": 3
   },
   "file_extension": ".py",
   "mimetype": "text/x-python",
   "name": "python",
   "nbconvert_exporter": "python",
   "pygments_lexer": "ipython3",
   "version": "3.8.8"
  }
 },
 "nbformat": 4,
 "nbformat_minor": 5
}
